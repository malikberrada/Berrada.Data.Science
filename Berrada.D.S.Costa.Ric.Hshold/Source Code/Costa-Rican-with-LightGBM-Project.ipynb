{
 "cells": [
  {
   "cell_type": "code",
   "execution_count": 18,
   "metadata": {},
   "outputs": [],
   "source": [
    "import numpy as np # linear algebra\n",
    "import pandas as pd # data processing, CSV file I/O (e.g. pd.read_csv)\n",
    "import seaborn as sns\n",
    "import matplotlib.pyplot as plt"
   ]
  },
  {
   "cell_type": "code",
   "execution_count": 19,
   "metadata": {},
   "outputs": [
    {
     "name": "stdout",
     "output_type": "stream",
     "text": [
      "My colors are set!\n",
      "sklearn imported!\n",
      "lightgbm imported!\n"
     ]
    }
   ],
   "source": [
    "pd.set_option('display.max_columns', 300)\n",
    "%matplotlib inline\n",
    "\n",
    "sns.set(style='white', context='notebook', palette='deep')\n",
    "\n",
    "mycols = [\"#66c2ff\", \"#5cd6d6\", \"#00cc99\", \"#85e085\", \"#ffd966\", \"#ffb366\", \"#ffb3b3\", \"#dab3ff\", \"#c2c2d6\"]\n",
    "sns.set_palette(palette = mycols, n_colors = 4)\n",
    "print('My colors are set!')\n",
    "\n",
    "from sklearn.model_selection import StratifiedKFold\n",
    "print('sklearn imported!')\n",
    "\n",
    "import lightgbm as lgb\n",
    "print('lightgbm imported!')"
   ]
  },
  {
   "cell_type": "code",
   "execution_count": 20,
   "metadata": {},
   "outputs": [],
   "source": [
    "train_set = pd.read_csv('D:/Data Science/Projet Kaggle/Projet Costa Rican Household/Data/train.csv')\n",
    "test_set = pd.read_csv('D:/Data Science/Projet Kaggle/Projet Costa Rican Household/Data/test.csv')\n"
   ]
  },
  {
   "cell_type": "code",
   "execution_count": 21,
   "metadata": {},
   "outputs": [
    {
     "name": "stdout",
     "output_type": "stream",
     "text": [
      "train set has 9557 rows, and 143 features\n",
      "test set has 23856 rows, and 142 features\n"
     ]
    }
   ],
   "source": [
    "print(f'train set has {train_set.shape[0]} rows, and {train_set.shape[1]} features')\n",
    "print(f'test set has {test_set.shape[0]} rows, and {test_set.shape[1]} features')"
   ]
  },
  {
   "cell_type": "code",
   "execution_count": 22,
   "metadata": {},
   "outputs": [
    {
     "data": {
      "text/plain": [
       "4    0.627394\n",
       "2    0.167103\n",
       "3    0.126504\n",
       "1    0.079000\n",
       "Name: Target, dtype: float64"
      ]
     },
     "execution_count": 22,
     "metadata": {},
     "output_type": "execute_result"
    }
   ],
   "source": [
    "#Let's take a look at target\n",
    "target = train_set['Target']\n",
    "target.value_counts(normalize=True)"
   ]
  },
  {
   "cell_type": "code",
   "execution_count": 23,
   "metadata": {},
   "outputs": [],
   "source": [
    "#outlier in test set which rez_esc is 99.0\n",
    "test_set.loc[test_set['rez_esc'] == 99.0 , 'rez_esc'] = 5"
   ]
  },
  {
   "cell_type": "code",
   "execution_count": 24,
   "metadata": {},
   "outputs": [
    {
     "name": "stdout",
     "output_type": "stream",
     "text": [
      "We got 5 rows which have missing value in train set \n"
     ]
    },
    {
     "data": {
      "text/html": [
       "<div>\n",
       "<style scoped>\n",
       "    .dataframe tbody tr th:only-of-type {\n",
       "        vertical-align: middle;\n",
       "    }\n",
       "\n",
       "    .dataframe tbody tr th {\n",
       "        vertical-align: top;\n",
       "    }\n",
       "\n",
       "    .dataframe thead th {\n",
       "        text-align: right;\n",
       "    }\n",
       "</style>\n",
       "<table border=\"1\" class=\"dataframe\">\n",
       "  <thead>\n",
       "    <tr style=\"text-align: right;\">\n",
       "      <th></th>\n",
       "      <th>Count</th>\n",
       "    </tr>\n",
       "  </thead>\n",
       "  <tbody>\n",
       "    <tr>\n",
       "      <th>rez_esc</th>\n",
       "      <td>82.954902</td>\n",
       "    </tr>\n",
       "    <tr>\n",
       "      <th>v18q1</th>\n",
       "      <td>76.823271</td>\n",
       "    </tr>\n",
       "    <tr>\n",
       "      <th>v2a1</th>\n",
       "      <td>71.779847</td>\n",
       "    </tr>\n",
       "    <tr>\n",
       "      <th>SQBmeaned</th>\n",
       "      <td>0.052318</td>\n",
       "    </tr>\n",
       "    <tr>\n",
       "      <th>meaneduc</th>\n",
       "      <td>0.052318</td>\n",
       "    </tr>\n",
       "    <tr>\n",
       "      <th>Id</th>\n",
       "      <td>0.000000</td>\n",
       "    </tr>\n",
       "  </tbody>\n",
       "</table>\n",
       "</div>"
      ],
      "text/plain": [
       "               Count\n",
       "rez_esc    82.954902\n",
       "v18q1      76.823271\n",
       "v2a1       71.779847\n",
       "SQBmeaned   0.052318\n",
       "meaneduc    0.052318\n",
       "Id          0.000000"
      ]
     },
     "execution_count": 24,
     "metadata": {},
     "output_type": "execute_result"
    }
   ],
   "source": [
    "data_na = train_set.isnull().sum().values / train_set.shape[0] *100\n",
    "df_na = pd.DataFrame(data_na, index=train_set.columns, columns=['Count'])\n",
    "df_na = df_na.sort_values(by=['Count'], ascending=False)\n",
    "\n",
    "missing_value_count = df_na[df_na['Count']>0].shape[0]\n",
    "\n",
    "print(f'We got {missing_value_count} rows which have missing value in train set ')\n",
    "df_na.head(6)"
   ]
  },
  {
   "cell_type": "code",
   "execution_count": 25,
   "metadata": {},
   "outputs": [
    {
     "name": "stdout",
     "output_type": "stream",
     "text": [
      "We got 5 rows which have missing value in test set \n"
     ]
    },
    {
     "data": {
      "text/html": [
       "<div>\n",
       "<style scoped>\n",
       "    .dataframe tbody tr th:only-of-type {\n",
       "        vertical-align: middle;\n",
       "    }\n",
       "\n",
       "    .dataframe tbody tr th {\n",
       "        vertical-align: top;\n",
       "    }\n",
       "\n",
       "    .dataframe thead th {\n",
       "        text-align: right;\n",
       "    }\n",
       "</style>\n",
       "<table border=\"1\" class=\"dataframe\">\n",
       "  <thead>\n",
       "    <tr style=\"text-align: right;\">\n",
       "      <th></th>\n",
       "      <th>Count</th>\n",
       "    </tr>\n",
       "  </thead>\n",
       "  <tbody>\n",
       "    <tr>\n",
       "      <th>rez_esc</th>\n",
       "      <td>82.381791</td>\n",
       "    </tr>\n",
       "    <tr>\n",
       "      <th>v18q1</th>\n",
       "      <td>75.980885</td>\n",
       "    </tr>\n",
       "    <tr>\n",
       "      <th>v2a1</th>\n",
       "      <td>72.950201</td>\n",
       "    </tr>\n",
       "    <tr>\n",
       "      <th>meaneduc</th>\n",
       "      <td>0.129946</td>\n",
       "    </tr>\n",
       "    <tr>\n",
       "      <th>SQBmeaned</th>\n",
       "      <td>0.129946</td>\n",
       "    </tr>\n",
       "    <tr>\n",
       "      <th>instlevel1</th>\n",
       "      <td>0.000000</td>\n",
       "    </tr>\n",
       "  </tbody>\n",
       "</table>\n",
       "</div>"
      ],
      "text/plain": [
       "                Count\n",
       "rez_esc     82.381791\n",
       "v18q1       75.980885\n",
       "v2a1        72.950201\n",
       "meaneduc     0.129946\n",
       "SQBmeaned    0.129946\n",
       "instlevel1   0.000000"
      ]
     },
     "execution_count": 25,
     "metadata": {},
     "output_type": "execute_result"
    }
   ],
   "source": [
    "data_na = test_set.isnull().sum().values / test_set.shape[0] *100\n",
    "df_na = pd.DataFrame(data_na, index=test_set.columns, columns=['Count'])\n",
    "df_na = df_na.sort_values(by=['Count'], ascending=False)\n",
    "\n",
    "missing_value_count = df_na[df_na['Count']>0].shape[0]\n",
    "\n",
    "print(f'We got {missing_value_count} rows which have missing value in test set ')\n",
    "df_na.head(6)"
   ]
  },
  {
   "cell_type": "code",
   "execution_count": 26,
   "metadata": {},
   "outputs": [],
   "source": [
    "#Fill na\n",
    "def repalce_v18q1(x):\n",
    "    if x['v18q'] == 0:\n",
    "        return x['v18q']\n",
    "    else:\n",
    "        return x['v18q1']\n",
    "\n",
    "train_set['v18q1'] = train_set.apply(lambda x : repalce_v18q1(x),axis=1)\n",
    "test_set['v18q1'] = test_set.apply(lambda x : repalce_v18q1(x),axis=1)\n",
    "\n",
    "train_set['v2a1'] = train_set['v2a1'].fillna(value=train_set['tipovivi3'])\n",
    "test_set['v2a1'] = test_set['v2a1'].fillna(value=test_set['tipovivi3'])"
   ]
  },
  {
   "cell_type": "code",
   "execution_count": 27,
   "metadata": {},
   "outputs": [],
   "source": [
    "cols = ['edjefe', 'edjefa']\n",
    "train_set[cols] = train_set[cols].replace({'no': 0, 'yes':1}).astype(float)\n",
    "test_set[cols] = test_set[cols].replace({'no': 0, 'yes':1}).astype(float)"
   ]
  },
  {
   "cell_type": "code",
   "execution_count": 28,
   "metadata": {},
   "outputs": [],
   "source": [
    "train_set['roof_waste_material'] = np.nan\n",
    "test_set['roof_waste_material'] = np.nan\n",
    "train_set['electricity_other'] = np.nan\n",
    "test_set['electricity_other'] = np.nan\n",
    "\n",
    "def fill_roof_exception(x):\n",
    "    if (x['techozinc'] == 0) and (x['techoentrepiso'] == 0) and (x['techocane'] == 0) and (x['techootro'] == 0):\n",
    "        return 1\n",
    "    else:\n",
    "        return 0\n",
    "    \n",
    "def fill_no_electricity(x):\n",
    "    if (x['public'] == 0) and (x['planpri'] == 0) and (x['noelec'] == 0) and (x['coopele'] == 0):\n",
    "        return 1\n",
    "    else:\n",
    "        return 0\n",
    "\n",
    "train_set['roof_waste_material'] = train_set.apply(lambda x : fill_roof_exception(x),axis=1)\n",
    "test_set['roof_waste_material'] = test_set.apply(lambda x : fill_roof_exception(x),axis=1)\n",
    "train_set['electricity_other'] = train_set.apply(lambda x : fill_no_electricity(x),axis=1)\n",
    "test_set['electricity_other'] = test_set.apply(lambda x : fill_no_electricity(x),axis=1)"
   ]
  },
  {
   "cell_type": "code",
   "execution_count": 29,
   "metadata": {},
   "outputs": [],
   "source": [
    "train_set['adult'] = train_set['hogar_adul'] - train_set['hogar_mayor']\n",
    "train_set['dependency_count'] = train_set['hogar_nin'] + train_set['hogar_mayor']\n",
    "train_set['dependency'] = train_set['dependency_count'] / train_set['adult']\n",
    "train_set['child_percent'] = train_set['hogar_nin']/train_set['hogar_total']\n",
    "train_set['elder_percent'] = train_set['hogar_mayor']/train_set['hogar_total']\n",
    "train_set['adult_percent'] = train_set['hogar_adul']/train_set['hogar_total']\n",
    "test_set['adult'] = test_set['hogar_adul'] - test_set['hogar_mayor']\n",
    "test_set['dependency_count'] = test_set['hogar_nin'] + test_set['hogar_mayor']\n",
    "test_set['dependency'] = test_set['dependency_count'] / test_set['adult']\n",
    "test_set['child_percent'] = test_set['hogar_nin']/test_set['hogar_total']\n",
    "test_set['elder_percent'] = test_set['hogar_mayor']/test_set['hogar_total']\n",
    "test_set['adult_percent'] = test_set['hogar_adul']/test_set['hogar_total']\n",
    "\n",
    "train_set['rent_per_adult'] = train_set['v2a1']/train_set['hogar_adul']\n",
    "train_set['rent_per_person'] = train_set['v2a1']/train_set['hhsize']\n",
    "test_set['rent_per_adult'] = test_set['v2a1']/test_set['hogar_adul']\n",
    "test_set['rent_per_person'] = test_set['v2a1']/test_set['hhsize']\n",
    "\n",
    "train_set['overcrowding_room_and_bedroom'] = (train_set['hacdor'] + train_set['hacapo'])/2\n",
    "test_set['overcrowding_room_and_bedroom'] = (test_set['hacdor'] + test_set['hacapo'])/2\n",
    "\n",
    "train_set['no_appliances'] = train_set['refrig'] + train_set['computer'] + train_set['television']\n",
    "test_set['no_appliances'] = test_set['refrig'] + test_set['computer'] + test_set['television']\n",
    "\n",
    "train_set['r4h1_percent_in_male'] = train_set['r4h1'] / train_set['r4h3']\n",
    "train_set['r4m1_percent_in_female'] = train_set['r4m1'] / train_set['r4m3']\n",
    "train_set['r4h1_percent_in_total'] = train_set['r4h1'] / train_set['hhsize']\n",
    "train_set['r4m1_percent_in_total'] = train_set['r4m1'] / train_set['hhsize']\n",
    "train_set['r4t1_percent_in_total'] = train_set['r4t1'] / train_set['hhsize']\n",
    "test_set['r4h1_percent_in_male'] = test_set['r4h1'] / test_set['r4h3']\n",
    "test_set['r4m1_percent_in_female'] = test_set['r4m1'] / test_set['r4m3']\n",
    "test_set['r4h1_percent_in_total'] = test_set['r4h1'] / test_set['hhsize']\n",
    "test_set['r4m1_percent_in_total'] = test_set['r4m1'] / test_set['hhsize']\n",
    "test_set['r4t1_percent_in_total'] = test_set['r4t1'] / test_set['hhsize']\n",
    "\n",
    "train_set['rent_per_room'] = train_set['v2a1']/train_set['rooms']\n",
    "train_set['bedroom_per_room'] = train_set['bedrooms']/train_set['rooms']\n",
    "train_set['elder_per_room'] = train_set['hogar_mayor']/train_set['rooms']\n",
    "train_set['adults_per_room'] = train_set['adult']/train_set['rooms']\n",
    "train_set['child_per_room'] = train_set['hogar_nin']/train_set['rooms']\n",
    "train_set['male_per_room'] = train_set['r4h3']/train_set['rooms']\n",
    "train_set['female_per_room'] = train_set['r4m3']/train_set['rooms']\n",
    "train_set['room_per_person_household'] = train_set['hhsize']/train_set['rooms']\n",
    "\n",
    "test_set['rent_per_room'] = test_set['v2a1']/test_set['rooms']\n",
    "test_set['bedroom_per_room'] = test_set['bedrooms']/test_set['rooms']\n",
    "test_set['elder_per_room'] = test_set['hogar_mayor']/test_set['rooms']\n",
    "test_set['adults_per_room'] = test_set['adult']/test_set['rooms']\n",
    "test_set['child_per_room'] = test_set['hogar_nin']/test_set['rooms']\n",
    "test_set['male_per_room'] = test_set['r4h3']/test_set['rooms']\n",
    "test_set['female_per_room'] = test_set['r4m3']/test_set['rooms']\n",
    "test_set['room_per_person_household'] = test_set['hhsize']/test_set['rooms']\n",
    "\n",
    "train_set['rent_per_bedroom'] = train_set['v2a1']/train_set['bedrooms']\n",
    "train_set['edler_per_bedroom'] = train_set['hogar_mayor']/train_set['bedrooms']\n",
    "train_set['adults_per_bedroom'] = train_set['adult']/train_set['bedrooms']\n",
    "train_set['child_per_bedroom'] = train_set['hogar_nin']/train_set['bedrooms']\n",
    "train_set['male_per_bedroom'] = train_set['r4h3']/train_set['bedrooms']\n",
    "train_set['female_per_bedroom'] = train_set['r4m3']/train_set['bedrooms']\n",
    "train_set['bedrooms_per_person_household'] = train_set['hhsize']/train_set['bedrooms']\n",
    "\n",
    "test_set['rent_per_bedroom'] = test_set['v2a1']/test_set['bedrooms']\n",
    "test_set['edler_per_bedroom'] = test_set['hogar_mayor']/test_set['bedrooms']\n",
    "test_set['adults_per_bedroom'] = test_set['adult']/test_set['bedrooms']\n",
    "test_set['child_per_bedroom'] = test_set['hogar_nin']/test_set['bedrooms']\n",
    "test_set['male_per_bedroom'] = test_set['r4h3']/test_set['bedrooms']\n",
    "test_set['female_per_bedroom'] = test_set['r4m3']/test_set['bedrooms']\n",
    "test_set['bedrooms_per_person_household'] = test_set['hhsize']/test_set['bedrooms']\n",
    "\n",
    "train_set['tablet_per_person_household'] = train_set['v18q1']/train_set['hhsize']\n",
    "train_set['phone_per_person_household'] = train_set['qmobilephone']/train_set['hhsize']\n",
    "test_set['tablet_per_person_household'] = test_set['v18q1']/test_set['hhsize']\n",
    "test_set['phone_per_person_household'] = test_set['qmobilephone']/test_set['hhsize']\n",
    "\n",
    "train_set['age_12_19'] = train_set['hogar_nin'] - train_set['r4t1']\n",
    "test_set['age_12_19'] = test_set['hogar_nin'] - test_set['r4t1']    \n",
    "\n",
    "train_set['escolari_age'] = train_set['escolari']/train_set['age']\n",
    "test_set['escolari_age'] = test_set['escolari']/test_set['age']\n",
    "\n",
    "train_set['rez_esc_escolari'] = train_set['rez_esc']/train_set['escolari']\n",
    "train_set['rez_esc_r4t1'] = train_set['rez_esc']/train_set['r4t1']\n",
    "train_set['rez_esc_r4t2'] = train_set['rez_esc']/train_set['r4t2']\n",
    "train_set['rez_esc_r4t3'] = train_set['rez_esc']/train_set['r4t3']\n",
    "train_set['rez_esc_age'] = train_set['rez_esc']/train_set['age']\n",
    "test_set['rez_esc_escolari'] = test_set['rez_esc']/test_set['escolari']\n",
    "test_set['rez_esc_r4t1'] = test_set['rez_esc']/test_set['r4t1']\n",
    "test_set['rez_esc_r4t2'] = test_set['rez_esc']/test_set['r4t2']\n",
    "test_set['rez_esc_r4t3'] = test_set['rez_esc']/test_set['r4t3']\n",
    "test_set['rez_esc_age'] = test_set['rez_esc']/test_set['age']"
   ]
  },
  {
   "cell_type": "code",
   "execution_count": 30,
   "metadata": {},
   "outputs": [
    {
     "name": "stdout",
     "output_type": "stream",
     "text": [
      "train set has 9557 rows, and 183 features\n",
      "test set has 23856 rows, and 182 features\n"
     ]
    }
   ],
   "source": [
    "train_set['dependency'] = train_set['dependency'].replace({np.inf: 0})\n",
    "test_set['dependency'] = test_set['dependency'].replace({np.inf: 0})\n",
    "\n",
    "print(f'train set has {train_set.shape[0]} rows, and {train_set.shape[1]} features')\n",
    "print(f'test set has {test_set.shape[0]} rows, and {test_set.shape[1]} features')"
   ]
  },
  {
   "cell_type": "code",
   "execution_count": 31,
   "metadata": {},
   "outputs": [
    {
     "name": "stdout",
     "output_type": "stream",
     "text": [
      "new aggregate train set has 2988 rows, and 46 features\n",
      "new aggregate test set has 7352 rows, and 46 features\n"
     ]
    }
   ],
   "source": [
    "df_train = pd.DataFrame()\n",
    "df_test = pd.DataFrame()\n",
    "\n",
    "aggr_mean_list = ['rez_esc', 'dis', 'male', 'female', 'estadocivil1', 'estadocivil2', 'estadocivil3', 'estadocivil4', 'estadocivil5', 'estadocivil6', 'estadocivil7', 'parentesco2',\n",
    "             'parentesco3', 'parentesco4', 'parentesco5', 'parentesco6', 'parentesco7', 'parentesco8', 'parentesco9', 'parentesco10', 'parentesco11', 'parentesco12',\n",
    "             'instlevel1', 'instlevel2', 'instlevel3', 'instlevel4', 'instlevel5', 'instlevel6', 'instlevel7', 'instlevel8', 'instlevel9',]\n",
    "\n",
    "other_list = ['escolari', 'age', 'escolari_age']\n",
    "\n",
    "for item in aggr_mean_list:\n",
    "    group_train_mean = train_set[item].groupby(train_set['idhogar']).mean()\n",
    "    group_test_mean = test_set[item].groupby(test_set['idhogar']).mean()\n",
    "    new_col = item + '_aggr_mean'\n",
    "    df_train[new_col] = group_train_mean\n",
    "    df_test[new_col] = group_test_mean\n",
    "\n",
    "for item in other_list:\n",
    "    for function in ['mean','std','min','max','sum']:\n",
    "        group_train = train_set[item].groupby(train_set['idhogar']).agg(function)\n",
    "        group_test = test_set[item].groupby(test_set['idhogar']).agg(function)\n",
    "        new_col = item + '_' + function\n",
    "        df_train[new_col] = group_train\n",
    "        df_test[new_col] = group_test\n",
    "\n",
    "print(f'new aggregate train set has {df_train.shape[0]} rows, and {df_train.shape[1]} features')\n",
    "print(f'new aggregate test set has {df_test.shape[0]} rows, and {df_test.shape[1]} features')"
   ]
  },
  {
   "cell_type": "code",
   "execution_count": 32,
   "metadata": {},
   "outputs": [
    {
     "name": "stdout",
     "output_type": "stream",
     "text": [
      "new train set has 9557 rows, and 229 features\n",
      "new test set has 23856 rows, and 228 features\n"
     ]
    }
   ],
   "source": [
    "df_test = df_test.reset_index()\n",
    "df_train = df_train.reset_index()\n",
    "\n",
    "train_agg = pd.merge(train_set, df_train, on='idhogar')\n",
    "test = pd.merge(test_set, df_test, on='idhogar')\n",
    "\n",
    "#fill all na as 0\n",
    "train_agg.fillna(value=0, inplace=True)\n",
    "test.fillna(value=0, inplace=True)\n",
    "print(f'new train set has {train_agg.shape[0]} rows, and {train_agg.shape[1]} features')\n",
    "print(f'new test set has {test.shape[0]} rows, and {test.shape[1]} features')"
   ]
  },
  {
   "cell_type": "code",
   "execution_count": 33,
   "metadata": {},
   "outputs": [
    {
     "name": "stdout",
     "output_type": "stream",
     "text": [
      "new aggregate train set has 2988 rows, and 46 features\n",
      "new aggregate test set has 7352 rows, and 46 features\n"
     ]
    }
   ],
   "source": [
    "df_train = pd.DataFrame()\n",
    "df_test = pd.DataFrame()\n",
    "\n",
    "aggr_mean_list = ['rez_esc', 'dis', 'male', 'female', 'estadocivil1', 'estadocivil2', 'estadocivil3', 'estadocivil4', 'estadocivil5', 'estadocivil6', 'estadocivil7', 'parentesco2',\n",
    "             'parentesco3', 'parentesco4', 'parentesco5', 'parentesco6', 'parentesco7', 'parentesco8', 'parentesco9', 'parentesco10', 'parentesco11', 'parentesco12',\n",
    "             'instlevel1', 'instlevel2', 'instlevel3', 'instlevel4', 'instlevel5', 'instlevel6', 'instlevel7', 'instlevel8', 'instlevel9',]\n",
    "\n",
    "other_list = ['escolari', 'age', 'escolari_age']\n",
    "\n",
    "for item in aggr_mean_list:\n",
    "    group_train_mean = train_set[item].groupby(train_set['idhogar']).mean()\n",
    "    group_test_mean = test_set[item].groupby(test_set['idhogar']).mean()\n",
    "    new_col = item + '_aggr_mean'\n",
    "    df_train[new_col] = group_train_mean\n",
    "    df_test[new_col] = group_test_mean\n",
    "\n",
    "for item in other_list:\n",
    "    for function in ['mean','std','min','max','sum']:\n",
    "        group_train = train_set[item].groupby(train_set['idhogar']).agg(function)\n",
    "        group_test = test_set[item].groupby(test_set['idhogar']).agg(function)\n",
    "        new_col = item + '_' + function\n",
    "        df_train[new_col] = group_train\n",
    "        df_test[new_col] = group_test\n",
    "\n",
    "print(f'new aggregate train set has {df_train.shape[0]} rows, and {df_train.shape[1]} features')\n",
    "print(f'new aggregate test set has {df_test.shape[0]} rows, and {df_test.shape[1]} features')"
   ]
  },
  {
   "cell_type": "code",
   "execution_count": 35,
   "metadata": {},
   "outputs": [
    {
     "name": "stdout",
     "output_type": "stream",
     "text": [
      "new train set has 9557 rows, and 230 features\n",
      "new test set has 23856 rows, and 229 features\n"
     ]
    }
   ],
   "source": [
    "df_test = df_test.reset_index()\n",
    "df_train = df_train.reset_index()\n",
    "\n",
    "train_agg = pd.merge(train_set, df_train, on='idhogar')\n",
    "test = pd.merge(test_set, df_test, on='idhogar')\n",
    "\n",
    "#fill all na as 0\n",
    "train_agg.fillna(value=0, inplace=True)\n",
    "test.fillna(value=0, inplace=True)\n",
    "print(f'new train set has {train_agg.shape[0]} rows, and {train_agg.shape[1]} features')\n",
    "print(f'new test set has {test.shape[0]} rows, and {test.shape[1]} features')"
   ]
  },
  {
   "cell_type": "code",
   "execution_count": 36,
   "metadata": {},
   "outputs": [],
   "source": [
    "#According to data descriptions,ONLY the heads of household are used in scoring. /\n",
    "#All household members are included in test + the sample submission, but only heads of households are scored.\n",
    "train = train_agg.query('parentesco1==1')"
   ]
  },
  {
   "cell_type": "code",
   "execution_count": 37,
   "metadata": {},
   "outputs": [
    {
     "name": "stderr",
     "output_type": "stream",
     "text": [
      "H:\\Anaconda3\\lib\\site-packages\\pandas\\core\\frame.py:3694: SettingWithCopyWarning: \n",
      "A value is trying to be set on a copy of a slice from a DataFrame\n",
      "\n",
      "See the caveats in the documentation: http://pandas.pydata.org/pandas-docs/stable/indexing.html#indexing-view-versus-copy\n",
      "  errors=errors)\n"
     ]
    },
    {
     "name": "stdout",
     "output_type": "stream",
     "text": [
      "The most 20 positive feature: \n",
      "Target                  1.000000\n",
      "escolari_mean           0.423626\n",
      "escolari_max            0.373091\n",
      "escolari                0.333791\n",
      "meaneduc                0.331489\n",
      "escolari_min            0.306693\n",
      "cielorazo               0.295249\n",
      "eviv3                   0.293540\n",
      "instlevel8_aggr_mean    0.293307\n",
      "epared3                 0.280947\n",
      "escolari_age_min        0.276896\n",
      "pisomoscer              0.275452\n",
      "adult_percent           0.263882\n",
      "etecho3                 0.261142\n",
      "escolari_age_mean       0.258934\n",
      "escolari_sum            0.256726\n",
      "paredblolad             0.254469\n",
      "edjefe                  0.235687\n",
      "instlevel8              0.235102\n",
      "escolari_age            0.232205\n",
      "Name: Target, dtype: float64\n",
      "**************************************************\n",
      "The most 20 negative feature: \n",
      "child_percent       -0.263882\n",
      "hogar_nin           -0.266309\n",
      "dependency_count    -0.283908\n",
      "dependency          -0.304563\n",
      "child_per_room      -0.305541\n",
      "child_per_bedroom   -0.308308\n",
      "elimbasu5                 NaN\n",
      "estadocivil1              NaN\n",
      "parentesco1               NaN\n",
      "parentesco2               NaN\n",
      "parentesco3               NaN\n",
      "parentesco4               NaN\n",
      "parentesco5               NaN\n",
      "parentesco6               NaN\n",
      "parentesco7               NaN\n",
      "parentesco8               NaN\n",
      "parentesco9               NaN\n",
      "parentesco10              NaN\n",
      "parentesco11              NaN\n",
      "parentesco12              NaN\n",
      "Name: Target, dtype: float64\n"
     ]
    }
   ],
   "source": [
    "submission = test[['Id']]\n",
    "\n",
    "#Remove useless feature to reduce dimension\n",
    "train.drop(columns=['idhogar','Id', 'tamhog', 'agesq', 'hogar_adul', 'SQBescolari', 'SQBage', 'SQBhogar_total', 'SQBedjefe', 'SQBhogar_nin', 'SQBovercrowding', 'SQBdependency', 'SQBmeaned'], inplace=True)\n",
    "test.drop(columns=['idhogar','Id', 'tamhog', 'agesq', 'hogar_adul', 'SQBescolari', 'SQBage', 'SQBhogar_total', 'SQBedjefe', 'SQBhogar_nin', 'SQBovercrowding', 'SQBdependency', 'SQBmeaned'], inplace=True)\n",
    "\n",
    "correlation = train.corr()\n",
    "correlation = correlation['Target'].sort_values(ascending=False)\n",
    "print(f'The most 20 positive feature: \\n{correlation.head(20)}')\n",
    "print('*'*50)\n",
    "\n",
    "print(f'The most 20 negative feature: \\n{correlation.tail(20)}')"
   ]
  },
  {
   "cell_type": "code",
   "execution_count": 38,
   "metadata": {},
   "outputs": [
    {
     "name": "stderr",
     "output_type": "stream",
     "text": [
      "H:\\Anaconda3\\lib\\site-packages\\pandas\\core\\frame.py:3694: SettingWithCopyWarning: \n",
      "A value is trying to be set on a copy of a slice from a DataFrame\n",
      "\n",
      "See the caveats in the documentation: http://pandas.pydata.org/pandas-docs/stable/indexing.html#indexing-view-versus-copy\n",
      "  errors=errors)\n"
     ]
    }
   ],
   "source": [
    "y = train['Target']\n",
    "\n",
    "train.drop(columns=['Target'], inplace=True)\n",
    "\n",
    "#parameter value is copied from \n",
    "clf = lgb.LGBMClassifier(max_depth=-1, learning_rate=0.1, objective='multiclass',\n",
    "                             random_state=None, silent=True, metric='None', \n",
    "                             n_jobs=4, n_estimators=5000, class_weight='balanced',\n",
    "                             colsample_bytree =  0.93, min_child_samples = 95, num_leaves = 14, subsample = 0.96)"
   ]
  },
  {
   "cell_type": "code",
   "execution_count": 39,
   "metadata": {},
   "outputs": [
    {
     "name": "stdout",
     "output_type": "stream",
     "text": [
      "###\n",
      "Training until validation scores don't improve for 400 rounds.\n",
      "[100]\tvalid_0's multi_logloss: 0.958514\n",
      "[200]\tvalid_0's multi_logloss: 0.956193\n",
      "[300]\tvalid_0's multi_logloss: 0.989269\n",
      "[400]\tvalid_0's multi_logloss: 1.03783\n",
      "[500]\tvalid_0's multi_logloss: 1.10606\n",
      "Early stopping, best iteration is:\n",
      "[139]\tvalid_0's multi_logloss: 0.948429\n"
     ]
    },
    {
     "name": "stderr",
     "output_type": "stream",
     "text": [
      "H:\\Anaconda3\\lib\\site-packages\\sklearn\\preprocessing\\label.py:151: DeprecationWarning: The truth value of an empty array is ambiguous. Returning False, but in future this will result in an error. Use `array.size > 0` to check that an array is not empty.\n",
      "  if diff:\n"
     ]
    },
    {
     "name": "stdout",
     "output_type": "stream",
     "text": [
      "###\n",
      "Training until validation scores don't improve for 400 rounds.\n",
      "[100]\tvalid_0's multi_logloss: 0.934057\n",
      "[200]\tvalid_0's multi_logloss: 0.939546\n",
      "[300]\tvalid_0's multi_logloss: 0.977771\n",
      "[400]\tvalid_0's multi_logloss: 1.0438\n",
      "[500]\tvalid_0's multi_logloss: 1.12371\n",
      "Early stopping, best iteration is:\n",
      "[152]\tvalid_0's multi_logloss: 0.927296\n"
     ]
    },
    {
     "name": "stderr",
     "output_type": "stream",
     "text": [
      "H:\\Anaconda3\\lib\\site-packages\\sklearn\\preprocessing\\label.py:151: DeprecationWarning: The truth value of an empty array is ambiguous. Returning False, but in future this will result in an error. Use `array.size > 0` to check that an array is not empty.\n",
      "  if diff:\n"
     ]
    },
    {
     "name": "stdout",
     "output_type": "stream",
     "text": [
      "###\n",
      "Training until validation scores don't improve for 400 rounds.\n",
      "[100]\tvalid_0's multi_logloss: 0.979931\n",
      "[200]\tvalid_0's multi_logloss: 0.988524\n",
      "[300]\tvalid_0's multi_logloss: 1.02842\n",
      "[400]\tvalid_0's multi_logloss: 1.08101\n",
      "[500]\tvalid_0's multi_logloss: 1.14072\n",
      "Early stopping, best iteration is:\n",
      "[102]\tvalid_0's multi_logloss: 0.979348\n"
     ]
    },
    {
     "name": "stderr",
     "output_type": "stream",
     "text": [
      "H:\\Anaconda3\\lib\\site-packages\\sklearn\\preprocessing\\label.py:151: DeprecationWarning: The truth value of an empty array is ambiguous. Returning False, but in future this will result in an error. Use `array.size > 0` to check that an array is not empty.\n",
      "  if diff:\n"
     ]
    },
    {
     "name": "stdout",
     "output_type": "stream",
     "text": [
      "###\n",
      "Training until validation scores don't improve for 400 rounds.\n",
      "[100]\tvalid_0's multi_logloss: 0.957281\n",
      "[200]\tvalid_0's multi_logloss: 0.967942\n",
      "[300]\tvalid_0's multi_logloss: 1.01032\n",
      "[400]\tvalid_0's multi_logloss: 1.06664\n",
      "[500]\tvalid_0's multi_logloss: 1.14647\n",
      "Early stopping, best iteration is:\n",
      "[123]\tvalid_0's multi_logloss: 0.951594\n"
     ]
    },
    {
     "name": "stderr",
     "output_type": "stream",
     "text": [
      "H:\\Anaconda3\\lib\\site-packages\\sklearn\\preprocessing\\label.py:151: DeprecationWarning: The truth value of an empty array is ambiguous. Returning False, but in future this will result in an error. Use `array.size > 0` to check that an array is not empty.\n",
      "  if diff:\n"
     ]
    },
    {
     "name": "stdout",
     "output_type": "stream",
     "text": [
      "###\n",
      "Training until validation scores don't improve for 400 rounds.\n",
      "[100]\tvalid_0's multi_logloss: 1.00386\n",
      "[200]\tvalid_0's multi_logloss: 1.03335\n",
      "[300]\tvalid_0's multi_logloss: 1.07882\n",
      "[400]\tvalid_0's multi_logloss: 1.15115\n",
      "[500]\tvalid_0's multi_logloss: 1.22749\n",
      "Early stopping, best iteration is:\n",
      "[102]\tvalid_0's multi_logloss: 1.00318\n"
     ]
    },
    {
     "name": "stderr",
     "output_type": "stream",
     "text": [
      "H:\\Anaconda3\\lib\\site-packages\\sklearn\\preprocessing\\label.py:151: DeprecationWarning: The truth value of an empty array is ambiguous. Returning False, but in future this will result in an error. Use `array.size > 0` to check that an array is not empty.\n",
      "  if diff:\n"
     ]
    }
   ],
   "source": [
    "kfold = 5\n",
    "kf = StratifiedKFold(n_splits=kfold, shuffle=True)\n",
    "\n",
    "predicts_result = []\n",
    "for train_index, test_index in kf.split(train, y):\n",
    "    print(\"###\")\n",
    "    X_train, X_val = train.iloc[train_index], train.iloc[test_index]\n",
    "    y_train, y_val = y.iloc[train_index], y.iloc[test_index]\n",
    "    clf.fit(X_train, y_train, eval_set=[(X_val, y_val)], \n",
    "            early_stopping_rounds=400, verbose=100)\n",
    "    predicts_result.append(clf.predict(test))"
   ]
  },
  {
   "cell_type": "code",
   "execution_count": 40,
   "metadata": {},
   "outputs": [
    {
     "data": {
      "image/png": "[encoded data removed]",
      "text/plain": [
       "<Figure size 1440x1080 with 1 Axes>"
      ]
     },
     "metadata": {},
     "output_type": "display_data"
    }
   ],
   "source": [
    "indices = np.argsort(clf.feature_importances_)[::-1]\n",
    "indices = indices[:75]\n",
    "\n",
    "# Visualise these with a barplot\n",
    "plt.subplots(figsize=(20, 15))\n",
    "g = sns.barplot(y=train.columns[indices], x = clf.feature_importances_[indices], orient='h', palette = mycols)\n",
    "g.set_xlabel(\"Relative importance\",fontsize=12)\n",
    "g.set_ylabel(\"Features\",fontsize=12)\n",
    "g.tick_params(labelsize=9)\n",
    "g.set_title(\"LightGBM feature importance\");"
   ]
  },
  {
   "cell_type": "code",
   "execution_count": 41,
   "metadata": {},
   "outputs": [
    {
     "name": "stderr",
     "output_type": "stream",
     "text": [
      "H:\\Anaconda3\\lib\\site-packages\\ipykernel_launcher.py:1: SettingWithCopyWarning: \n",
      "A value is trying to be set on a copy of a slice from a DataFrame.\n",
      "Try using .loc[row_indexer,col_indexer] = value instead\n",
      "\n",
      "See the caveats in the documentation: http://pandas.pydata.org/pandas-docs/stable/indexing.html#indexing-view-versus-copy\n",
      "  \"\"\"Entry point for launching an IPython kernel.\n"
     ]
    }
   ],
   "source": [
    "submission['Target'] = np.array(predicts_result).mean(axis=0).round().astype(int)\n",
    "submission.to_csv('submission.csv', index = False)"
   ]
  },
  {
   "cell_type": "code",
   "execution_count": null,
   "metadata": {},
   "outputs": [],
   "source": []
  }
 ],
 "metadata": {
  "kernelspec": {
   "display_name": "Python 3",
   "language": "python",
   "name": "python3"
  },
  "language_info": {
   "codemirror_mode": {
    "name": "ipython",
    "version": 3
   },
   "file_extension": ".py",
   "mimetype": "text/x-python",
   "name": "python",
   "nbconvert_exporter": "python",
   "pygments_lexer": "ipython3",
   "version": "3.6.5"
  }
 },
 "nbformat": 4,
 "nbformat_minor": 2
}
